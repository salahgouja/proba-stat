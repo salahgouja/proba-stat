{
 "cells": [
  {
   "cell_type": "markdown",
   "metadata": {},
   "source": [
    "# Simulation du jeux de LIDO simplifié"
   ]
  },
  {
   "cell_type": "markdown",
   "metadata": {},
   "source": [
    "## Principe\n",
    "On considére un jeux de Lido simple:\n",
    "on dispose d'un un seul pion.\n",
    "\n",
    "- Etape 0 :\n",
    "Le pion doit sort de sa prison lorsqu'on obtient un 6.\n",
    "\n",
    "- Etape 1 :\n",
    "Le pion doit atteindre exactement une position cible situé à N pas de distance de sa prison \n",
    "\n",
    "Soit $X_n$ la variable aléatoire qui represente le nombre de coup nécéssaire pour atteindre la positions cible.\n",
    "\n",
    "**Objectif 1** : Simuler le jeux \n",
    "\n",
    "**Objectif 2** : Calculer une estimation de l'éspérance mathématique de $X_n$ en utilisant `python`\n",
    "\n",
    "**Objéctif 3** : Observer la variation de $\\mathbb{E}(X_n)$ en fonction de $n$\n",
    "\n",
    "<img src=\"LIDO.png\">\n"
   ]
  },
  {
   "cell_type": "code",
   "execution_count": 1,
   "metadata": {},
   "outputs": [],
   "source": [
    "import numpy as np \n",
    "#importer numpy"
   ]
  },
  {
   "cell_type": "markdown",
   "metadata": {},
   "source": [
    "### Simulation du lancé de dé"
   ]
  },
  {
   "cell_type": "code",
   "execution_count": 2,
   "metadata": {},
   "outputs": [],
   "source": [
    "def Roll():\n",
    "    return int(np.random.choice(range(1,7),1))\n",
    "#avoir aleatoirement un nb entre 1 et 6"
   ]
  },
  {
   "cell_type": "code",
   "execution_count": 3,
   "metadata": {},
   "outputs": [
    {
     "data": {
      "text/plain": [
       "3"
      ]
     },
     "execution_count": 3,
     "metadata": {},
     "output_type": "execute_result"
    }
   ],
   "source": [
    "Roll()"
   ]
  },
  {
   "cell_type": "markdown",
   "metadata": {},
   "source": [
    "### Compléter le code et commenter"
   ]
  },
  {
   "cell_type": "code",
   "execution_count": 4,
   "metadata": {
    "scrolled": false
   },
   "outputs": [
    {
     "name": "stdout",
     "output_type": "stream",
     "text": [
      "temp =0 | NA=1 \n",
      "temp =6 | NA=2 |A=7 \n",
      "temp =3 | NA=3 | A=10 \n"
     ]
    }
   ],
   "source": [
    "A=0 #position pion\n",
    "NA=0 #nombre de coup\n",
    "S=10 #la langueuur de la chaine\n",
    "temp=0 #temp define le nombre obtenulors de la lancer \n",
    "NA+=1 #incrimentation\n",
    "print('temp ={} | NA={} '.format(temp,NA)) #affichage \n",
    "A=1 \n",
    "while (A<S) :# boucle while pour tester la position du pion par rapport au  fin du jeux\n",
    "    temp = Roll() #appel a la fonction Roll() pour deplacer le dé de sa position initiale jusqu'à ce qu'il atteigne la cible\n",
    "    NA+=1\n",
    "    if A+temp == S : \n",
    "        A=S \n",
    "        print('temp ={} | NA={} | A={} '.format(temp,NA,A)) #affichage \n",
    "        break\n",
    "        \n",
    "    elif A+temp<S :\n",
    "        A=A+temp\n",
    "        print('temp ={} | NA={} |A={} '.format(temp,NA,A)) #affichage \n",
    "    else :\n",
    "        print('temp ={} | NA={} |A={} '.format(temp,NA,A)) #affichage \n",
    "        \n",
    "        \n",
    "        "
   ]
  },
  {
   "cell_type": "markdown",
   "metadata": {},
   "source": [
    "### Simulation\n",
    "Ecrire une foction `sim` qui simule le jeux et qui prend comme variable le nombre de pas $n$ nécessazire pour atteindre la cible"
   ]
  },
  {
   "cell_type": "code",
   "execution_count": 5,
   "metadata": {},
   "outputs": [],
   "source": [
    "#la fonction sim détermine le nombre de coup nécessaire pour sortir du prison et atteindre la ciblepour un nombre S de pas pour atteindre la cible \n",
    "def sim (S) : \n",
    "    A=0 #position pion\n",
    "    NA=0 #nombre de coup\n",
    "    c=0\n",
    "    temp = Roll()\n",
    "    NA+=1 #incrementation\n",
    "    while temp!=6 :  \n",
    "        temp=Roll() #appel a la fonction Roll() pour deplacer le dé de sa position \n",
    "        NA+=1 \n",
    "    A=1 \n",
    "    while  A<S : \n",
    "        temp = Roll() \n",
    "        if temp+A<S : \n",
    "            NA+=1 \n",
    "            A+=temp \n",
    "        elif temp+A>S : \n",
    "            NA+=1\n",
    "        else :\n",
    "            A=S\n",
    "            NA+=1 \n",
    "    return NA"
   ]
  },
  {
   "cell_type": "code",
   "execution_count": 6,
   "metadata": {},
   "outputs": [
    {
     "data": {
      "text/plain": [
       "16"
      ]
     },
     "execution_count": 6,
     "metadata": {},
     "output_type": "execute_result"
    }
   ],
   "source": [
    "sim(30)"
   ]
  },
  {
   "cell_type": "code",
   "execution_count": 7,
   "metadata": {},
   "outputs": [
    {
     "name": "stdout",
     "output_type": "stream",
     "text": [
      "estimation de la moyenne de X_30=19.0592\n"
     ]
    }
   ],
   "source": [
    "#on calcul la moyenne de coup qu'on peut avoir ,pour arriver à un cible de S pas pour un simulation de 5000\n",
    "L= [sim(30) for i in range(5000)]\n",
    "moy=sum(L)/5000\n",
    "print('estimation de la moyenne de X_30={}'.format(moy))\n"
   ]
  },
  {
   "cell_type": "markdown",
   "metadata": {},
   "source": [
    "### Simulation de $10^5$  scénario "
   ]
  },
  {
   "cell_type": "code",
   "execution_count": 8,
   "metadata": {},
   "outputs": [
    {
     "name": "stdout",
     "output_type": "stream",
     "text": [
      "[10, 11, 12, 13, 14, 15, 16, 17, 18, 19]\n"
     ]
    }
   ],
   "source": [
    "# on simule le jeu pour n entre 10 et 20 \n",
    "# on calcule la moyenne de chaque simulation et on met le resultat dans le tableau y\n",
    "x=list(range(10,20))\n",
    "print(x)"
   ]
  },
  {
   "cell_type": "code",
   "execution_count": 9,
   "metadata": {},
   "outputs": [
    {
     "name": "stdout",
     "output_type": "stream",
     "text": [
      "[13.3939, 13.5802, 13.7953, 14.1295, 14.6015, 14.8735, 15.0282, 15.3244, 15.6676, 15.7552]\n"
     ]
    }
   ],
   "source": [
    "y=[sum([sim(u) for i in range(10000)])/10000 for u in x]\n",
    "print(y)"
   ]
  },
  {
   "cell_type": "code",
   "execution_count": 10,
   "metadata": {},
   "outputs": [],
   "source": [
    "import matplotlib.pyplot as plt "
   ]
  },
  {
   "cell_type": "code",
   "execution_count": 11,
   "metadata": {},
   "outputs": [
    {
     "data": {
      "image/png": "[encoded data removed]",
      "text/plain": [
       "<Figure size 432x288 with 1 Axes>"
      ]
     },
     "metadata": {
      "needs_background": "light"
     },
     "output_type": "display_data"
    }
   ],
   "source": [
    "plt.plot(x,y,'*r')\n",
    "plt.show() \n",
    "#on represente les resultats obtenu dans la courbe "
   ]
  },
  {
   "cell_type": "code",
   "execution_count": 12,
   "metadata": {},
   "outputs": [],
   "source": [
    "from scipy import stats\n",
    "import numpy as np\n",
    "slope, intercept, r_value, p_value, std_err = stats.linregress(x,y)"
   ]
  },
  {
   "cell_type": "code",
   "execution_count": 13,
   "metadata": {},
   "outputs": [
    {
     "data": {
      "text/plain": [
       "0.281679393939394"
      ]
     },
     "execution_count": 13,
     "metadata": {},
     "output_type": "execute_result"
    }
   ],
   "source": [
    "slope #la pente de la fonction"
   ]
  },
  {
   "cell_type": "code",
   "execution_count": 14,
   "metadata": {},
   "outputs": [
    {
     "data": {
      "text/plain": [
       "10.530578787878788"
      ]
     },
     "execution_count": 14,
     "metadata": {},
     "output_type": "execute_result"
    }
   ],
   "source": [
    "intercept #b l ordonne a l'origine "
   ]
  },
  {
   "cell_type": "code",
   "execution_count": 15,
   "metadata": {},
   "outputs": [],
   "source": [
    "yy=[slope*u + intercept for u in x]"
   ]
  },
  {
   "cell_type": "code",
   "execution_count": 16,
   "metadata": {},
   "outputs": [
    {
     "data": {
      "image/png": "[encoded data removed]",
      "text/plain": [
       "<Figure size 432x288 with 1 Axes>"
      ]
     },
     "metadata": {
      "needs_background": "light"
     },
     "output_type": "display_data"
    }
   ],
   "source": [
    "plt.plot(x, y, \"b*\", x, yy, 'r-')\n",
    "plt.show()"
   ]
  },
  {
   "cell_type": "code",
   "execution_count": 17,
   "metadata": {},
   "outputs": [],
   "source": [
    "#conclusion\n",
    "#Aprés l'analyse des courbes et des valeurs obtenu suite à la simulation, on peut conclure que l'éspérance mathématique du jeu Ludo est une fonction linéaire"
   ]
  },
  {
   "cell_type": "code",
   "execution_count": null,
   "metadata": {},
   "outputs": [],
   "source": []
  }
 ],
 "metadata": {
  "kernelspec": {
   "display_name": "Python 3",
   "language": "python",
   "name": "python3"
  },
  "language_info": {
   "codemirror_mode": {
    "name": "ipython",
    "version": 3
   },
   "file_extension": ".py",
   "mimetype": "text/x-python",
   "name": "python",
   "nbconvert_exporter": "python",
   "pygments_lexer": "ipython3",
   "version": "3.8.8"
  }
 },
 "nbformat": 4,
 "nbformat_minor": 4
}
